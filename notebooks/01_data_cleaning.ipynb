{
 "cells": [
  {
   "metadata": {
    "ExecuteTime": {
     "end_time": "2025-10-30T19:24:12.123145Z",
     "start_time": "2025-10-30T19:24:11.868341Z"
    }
   },
   "cell_type": "code",
   "source": [
    "import pandas as pd\n",
    "\n",
    "pd.read_csv(\"data/renewable_energy_1.csv\", sep=\";\")"
   ],
   "id": "c7323141aae79b46",
   "outputs": [
    {
     "data": {
      "text/plain": [
       "     Year,Month,Sector,Hydroelectric Power,Geothermal Energy,Solar Energy,Wind Energy,Wood Energy,Waste Energy,\"Fuel Ethanol, Excluding Denaturant\",Biomass Losses and Co-products,Biomass Energy,Total Renewable Energy,Renewable Diesel Fuel,Other Biofuels,Conventional Hydroelectric Power,Biodiesel\n",
       "0     1973,1,Commerical,0,0,0,0,0.57,0,0,0,0.57,0.57...                                                                                                                                                                                                                                                 \n",
       "1     1973,1,Electric Power,0,0.49,0,0,0.054,0.157,0...                                                                                                                                                                                                                                                 \n",
       "2     1973,1,Industrial,1.04,0,0,0,98.933,0,0,0,98.9...                                                                                                                                                                                                                                                 \n",
       "3     1973,1,Residential,0,0,0,0,30.074,0,0,0,0,30.0...                                                                                                                                                                                                                                                 \n",
       "4     1973,1,Transportation,0,0,0,0,0,0,0,0,0,0,0,0,0,0                                                                                                                                                                                                                                                 \n",
       "...                                                 ...                                                                                                                                                                                                                                                 \n",
       "3060  2024,1,Commerical,0.073,1.669,4.267,0.036,7.05...                                                                                                                                                                                                                                                 \n",
       "3061  2024,1,Electric Power,0,4.667,32.707,119.265,1...                                                                                                                                                                                                                                                 \n",
       "3062  2024,1,Industrial,0.308,0.356,0.987,0.035,104....                                                                                                                                                                                                                                                 \n",
       "3063  2024,1,Residential,0,3.354,14.897,0,34.065,0,0...                                                                                                                                                                                                                                                 \n",
       "3064  2024,1,Transportation,0,0,0,0,0,0,86.098,0,140...                                                                                                                                                                                                                                                 \n",
       "\n",
       "[3065 rows x 1 columns]"
      ],
      "text/html": [
       "<div>\n",
       "<style scoped>\n",
       "    .dataframe tbody tr th:only-of-type {\n",
       "        vertical-align: middle;\n",
       "    }\n",
       "\n",
       "    .dataframe tbody tr th {\n",
       "        vertical-align: top;\n",
       "    }\n",
       "\n",
       "    .dataframe thead th {\n",
       "        text-align: right;\n",
       "    }\n",
       "</style>\n",
       "<table border=\"1\" class=\"dataframe\">\n",
       "  <thead>\n",
       "    <tr style=\"text-align: right;\">\n",
       "      <th></th>\n",
       "      <th>Year,Month,Sector,Hydroelectric Power,Geothermal Energy,Solar Energy,Wind Energy,Wood Energy,Waste Energy,\"Fuel Ethanol, Excluding Denaturant\",Biomass Losses and Co-products,Biomass Energy,Total Renewable Energy,Renewable Diesel Fuel,Other Biofuels,Conventional Hydroelectric Power,Biodiesel</th>\n",
       "    </tr>\n",
       "  </thead>\n",
       "  <tbody>\n",
       "    <tr>\n",
       "      <th>0</th>\n",
       "      <td>1973,1,Commerical,0,0,0,0,0.57,0,0,0,0.57,0.57...</td>\n",
       "    </tr>\n",
       "    <tr>\n",
       "      <th>1</th>\n",
       "      <td>1973,1,Electric Power,0,0.49,0,0,0.054,0.157,0...</td>\n",
       "    </tr>\n",
       "    <tr>\n",
       "      <th>2</th>\n",
       "      <td>1973,1,Industrial,1.04,0,0,0,98.933,0,0,0,98.9...</td>\n",
       "    </tr>\n",
       "    <tr>\n",
       "      <th>3</th>\n",
       "      <td>1973,1,Residential,0,0,0,0,30.074,0,0,0,0,30.0...</td>\n",
       "    </tr>\n",
       "    <tr>\n",
       "      <th>4</th>\n",
       "      <td>1973,1,Transportation,0,0,0,0,0,0,0,0,0,0,0,0,0,0</td>\n",
       "    </tr>\n",
       "    <tr>\n",
       "      <th>...</th>\n",
       "      <td>...</td>\n",
       "    </tr>\n",
       "    <tr>\n",
       "      <th>3060</th>\n",
       "      <td>2024,1,Commerical,0.073,1.669,4.267,0.036,7.05...</td>\n",
       "    </tr>\n",
       "    <tr>\n",
       "      <th>3061</th>\n",
       "      <td>2024,1,Electric Power,0,4.667,32.707,119.265,1...</td>\n",
       "    </tr>\n",
       "    <tr>\n",
       "      <th>3062</th>\n",
       "      <td>2024,1,Industrial,0.308,0.356,0.987,0.035,104....</td>\n",
       "    </tr>\n",
       "    <tr>\n",
       "      <th>3063</th>\n",
       "      <td>2024,1,Residential,0,3.354,14.897,0,34.065,0,0...</td>\n",
       "    </tr>\n",
       "    <tr>\n",
       "      <th>3064</th>\n",
       "      <td>2024,1,Transportation,0,0,0,0,0,0,86.098,0,140...</td>\n",
       "    </tr>\n",
       "  </tbody>\n",
       "</table>\n",
       "<p>3065 rows × 1 columns</p>\n",
       "</div>"
      ]
     },
     "execution_count": 33,
     "metadata": {},
     "output_type": "execute_result"
    }
   ],
   "execution_count": 33
  },
  {
   "metadata": {},
   "cell_type": "code",
   "outputs": [],
   "execution_count": null,
   "source": "",
   "id": "fda944aec9c299b4"
  }
 ],
 "metadata": {
  "kernelspec": {
   "display_name": "Python 3",
   "language": "python",
   "name": "python3"
  },
  "language_info": {
   "codemirror_mode": {
    "name": "ipython",
    "version": 2
   },
   "file_extension": ".py",
   "mimetype": "text/x-python",
   "name": "python",
   "nbconvert_exporter": "python",
   "pygments_lexer": "ipython2",
   "version": "2.7.6"
  }
 },
 "nbformat": 4,
 "nbformat_minor": 5
}
