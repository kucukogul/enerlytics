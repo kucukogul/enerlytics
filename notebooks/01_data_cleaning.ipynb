{
 "cells": [
  {
   "metadata": {
    "ExecuteTime": {
     "end_time": "2025-10-30T20:03:06.112999Z",
     "start_time": "2025-10-30T20:03:06.081965Z"
    }
   },
   "cell_type": "code",
   "source": [
    "import pandas as pd\n",
    "import os\n",
    "\n",
    "# Bu kodda proje kök dizinimi otomatik olarak ayarladım böylece mevcut kodun dataset'i bulma sorunu ortadan  kalkmış oldu.\n",
    "project_root = os.path.abspath(\n",
    "    os.path.join(os.getcwd(), \"..\"))\n",
    "file_path = os.path.join(project_root, \"data\", \"renewable_energy.csv\")\n",
    "\n",
    "# Kodun bu kısmı dosyanın varlığını kontrol ediyor.\n",
    "if not os.path.exists(file_path):\n",
    "    print(f\"Hata: Dosya şu konumda bulunamadı: {file_path}\")\n",
    "else:\n",
    "    data = pd.read_csv(file_path, sep=\";\")\n",
    "    print(\"Dosya başarıyla yüklendi!\")\n",
    "    print(data.head())"
   ],
   "id": "c7323141aae79b46",
   "outputs": [
    {
     "name": "stdout",
     "output_type": "stream",
     "text": [
      "Dosya başarıyla yüklendi!\n",
      "  Year,Month,Sector,Hydroelectric Power,Geothermal Energy,Solar Energy,Wind Energy,Wood Energy,Waste Energy,\"Fuel Ethanol, Excluding Denaturant\",Biomass Losses and Co-products,Biomass Energy,Total Renewable Energy,Renewable Diesel Fuel,Other Biofuels,Conventional Hydroelectric Power,Biodiesel\n",
      "0  1973,1,Commerical,0,0,0,0,0.57,0,0,0,0.57,0.57...                                                                                                                                                                                                                                                 \n",
      "1  1973,1,Electric Power,0,0.49,0,0,0.054,0.157,0...                                                                                                                                                                                                                                                 \n",
      "2  1973,1,Industrial,1.04,0,0,0,98.933,0,0,0,98.9...                                                                                                                                                                                                                                                 \n",
      "3  1973,1,Residential,0,0,0,0,30.074,0,0,0,0,30.0...                                                                                                                                                                                                                                                 \n",
      "4  1973,1,Transportation,0,0,0,0,0,0,0,0,0,0,0,0,0,0                                                                                                                                                                                                                                                 \n"
     ]
    }
   ],
   "execution_count": 7
  },
  {
   "metadata": {},
   "cell_type": "code",
   "outputs": [],
   "execution_count": null,
   "source": "",
   "id": "e11b3c607e593e9c"
  }
 ],
 "metadata": {
  "kernelspec": {
   "display_name": "Python 3",
   "language": "python",
   "name": "python3"
  },
  "language_info": {
   "codemirror_mode": {
    "name": "ipython",
    "version": 2
   },
   "file_extension": ".py",
   "mimetype": "text/x-python",
   "name": "python",
   "nbconvert_exporter": "python",
   "pygments_lexer": "ipython2",
   "version": "2.7.6"
  }
 },
 "nbformat": 4,
 "nbformat_minor": 5
}
